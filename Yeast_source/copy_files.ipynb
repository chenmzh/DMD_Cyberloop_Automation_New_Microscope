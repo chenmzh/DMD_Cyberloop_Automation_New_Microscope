{
 "cells": [
  {
   "cell_type": "markdown",
   "metadata": {},
   "source": [
    "# 文件夹复制工具\n",
    "\n",
    "这个脚本可以将源文件夹中的所有文件复制到目标文件夹中"
   ]
  },
  {
   "cell_type": "code",
   "execution_count": null,
   "metadata": {},
   "outputs": [],
   "source": [
    "import os\n",
    "import shutil\n",
    "\n",
    "def copy_files(source_folder, destination_folder):\n",
    "    \"\"\"\n",
    "    复制源文件夹中的所有文件到目标文件夹\n",
    "    \n",
    "    Args:\n",
    "        source_folder (str): 源文件夹路径\n",
    "        destination_folder (str): 目标文件夹路径\n",
    "    \"\"\"\n",
    "    if not os.path.exists(source_folder):\n",
    "        print(f\"错误：源文件夹 '{source_folder}' 不存在\")\n",
    "        return\n",
    "    \n",
    "    if not os.path.exists(destination_folder):\n",
    "        os.makedirs(destination_folder)\n",
    "        print(f\"创建目标文件夹：{destination_folder}\")\n",
    "    \n",
    "    copied_count = 0\n",
    "    \n",
    "    for item in os.listdir(source_folder):\n",
    "        source_path = os.path.join(source_folder, item)\n",
    "        destination_path = os.path.join(destination_folder, item)\n",
    "        \n",
    "        if os.path.isfile(source_path):\n",
    "            shutil.copy2(source_path, destination_path)\n",
    "            print(f\"已复制：{item}\")\n",
    "            copied_count += 1\n",
    "        elif os.path.isdir(source_path):\n",
    "            if os.path.exists(destination_path):\n",
    "                shutil.rmtree(destination_path)\n",
    "            shutil.copytree(source_path, destination_path)\n",
    "            print(f\"已复制文件夹：{item}\")\n",
    "            copied_count += 1\n",
    "    \n",
    "    print(f\"\\n复制完成！共复制了 {copied_count} 个项目\")"
   ]
  },
  {
   "cell_type": "markdown",
   "metadata": {},
   "source": [
    "## 使用示例\n",
    "\n",
    "修改下面的路径，然后运行单元格来复制文件："
   ]
  },
  {
   "cell_type": "code",
   "execution_count": null,
   "metadata": {},
   "outputs": [],
   "source": [
    "# 设置源文件夹和目标文件夹路径\n",
    "source_folder = r\"E:\\MC\\data\\cell_death_20250817_DMD_open_loop\\microscope_images_20250818T165127\\segmentation\"  # 修改为你的源文件夹路径\n",
    "destination_folder = r\"Y:\\khammash\\MC\\microscope\\experiment\\cell_death_20250817_DMD_open_loop\\segmentation\"  # 修改为你的目标文件夹路径\n",
    "\n",
    "# 执行复制操作\n",
    "copy_files(source_folder, destination_folder)"
   ]
  }
 ],
 "metadata": {
  "kernelspec": {
   "display_name": "base",
   "language": "python",
   "name": "python3"
  },
  "language_info": {
   "codemirror_mode": {
    "name": "ipython",
    "version": 3
   },
   "file_extension": ".py",
   "mimetype": "text/x-python",
   "name": "python",
   "nbconvert_exporter": "python",
   "pygments_lexer": "ipython3",
   "version": "3.12.7"
  }
 },
 "nbformat": 4,
 "nbformat_minor": 4
}
